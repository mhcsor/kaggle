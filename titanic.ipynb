{
  "cells": [
    {
      "metadata": {
        "_uuid": "8f2839f25d086af736a60e9eeb907d3b93b6e0e5",
        "_cell_guid": "b1076dfc-b9ad-4769-8c92-a6c4dae69d19",
        "trusted": true,
        "collapsed": true
      },
      "cell_type": "code",
      "source": "# This Python 3 environment comes with many helpful analytics libraries installed\n# It is defined by the kaggle/python docker image: https://github.com/kaggle/docker-python\n# For example, here's several helpful packages to load in \n\nimport numpy as np # linear algebra\nimport pandas as pd # data processing, CSV file I/O (e.g. pd.read_csv)\nimport matplotlib.pyplot as plt\n\n# machine learning\nfrom sklearn.linear_model import LogisticRegression\nfrom sklearn.svm import SVC, LinearSVC\nfrom sklearn.ensemble import RandomForestClassifier\nfrom sklearn.neighbors import KNeighborsClassifier\nfrom sklearn.naive_bayes import GaussianNB\nfrom sklearn.linear_model import Perceptron\nfrom sklearn.linear_model import SGDClassifier\nfrom sklearn.tree import DecisionTreeClassifier\n\n# Input data files are available in the \"../input/\" directory.\n# For example, running this (by clicking run or pressing Shift+Enter) will list the files in the input directory\n\nimport os\nprint(os.listdir(\"../input\"))\n\n# Any results you write to the current directory are saved as output.",
      "execution_count": null,
      "outputs": []
    },
    {
      "metadata": {
        "_cell_guid": "79c7e3d0-c299-4dcb-8224-4455121ee9b0",
        "_uuid": "d629ff2d2480ee46fbb7e2d37f6b5fab8052498a",
        "trusted": true,
        "collapsed": true
      },
      "cell_type": "code",
      "source": "train_df = pd.read_csv('../input/train.csv')\ntest_df = pd.read_csv('../input/test.csv')\ncombine = [train_df, test_df]\n\n# cleanup of NaN values\ncombine[0] = combine[0].astype(object).where(pd.notnull(combine[0]), None)\ncombine[1] = combine[1].astype(object).where(pd.notnull(combine[1]), None)",
      "execution_count": null,
      "outputs": []
    },
    {
      "metadata": {
        "trusted": true,
        "_uuid": "c48dca4e64f9db77ac33a454fa07d15c15cee62b",
        "collapsed": true
      },
      "cell_type": "code",
      "source": "# defining ages by groups\ndef age_group(age): \n    if age is None:\n        return 'undetermined_age'\n    if age <= 14:\n        return 'is_children'\n    elif age > 14 and age <=24:\n        return 'is_young'\n    elif age > 24 and age <=64:\n        return 'is_adult'\n    else:\n        return 'is_senior'\n    \n# applying age groups to dataframe (converting age to categorical feature)\ncombine[0]['Age'] = combine[0]['Age'].apply(lambda a: age_group(a))\ncombine[1]['Age'] = combine[1]['Age'].apply(lambda a: age_group(a))",
      "execution_count": null,
      "outputs": []
    },
    {
      "metadata": {
        "trusted": true,
        "_uuid": "7cffaee3f7fb9fc37ddb8450f73a889effd6e15c",
        "collapsed": true
      },
      "cell_type": "code",
      "source": "# defining deck by cabin\ndef deck(cabin):\n    if cabin is None:\n        return 'undetermined_deck'\n    else:\n        return cabin[:1]\n\n# getting decks from cabin numbers\ncombine[0]['Cabin'] = combine[0]['Cabin'].apply(lambda a: deck(a))\ncombine[1]['Cabin'] = combine[1]['Cabin'].apply(lambda a: deck(a))",
      "execution_count": null,
      "outputs": []
    },
    {
      "metadata": {
        "trusted": true,
        "_uuid": "4d258ae81f2f2e5a8e20732502b75abfc60faa96",
        "collapsed": true
      },
      "cell_type": "code",
      "source": "def embarkation_port(embarked):\n    if embarked == 'C':\n        return 'Cherbourg'\n    elif embarked == 'Q':\n        return 'Queenstown'\n    elif embarked == 'S':\n        return 'Southampton'\n    else:\n        return embarked\n# getting port from embarked column\ncombine[0]['Embarked'] = combine[0]['Embarked'].apply(lambda a: embarkation_port(a))\ncombine[1]['Embarked'] = combine[1]['Embarked'].apply(lambda a: embarkation_port(a))",
      "execution_count": null,
      "outputs": []
    },
    {
      "metadata": {
        "trusted": true,
        "_uuid": "46f36f6375d3a9aa4a640a671bbd98f1ebbc2f17",
        "collapsed": true
      },
      "cell_type": "code",
      "source": "# applying number of relatives\ncombine[0]['Relatives'] = combine[0]['SibSp'] + combine[0]['Parch']\ncombine[0] = combine[0].drop(columns=['SibSp', 'Parch'])\n\ncombine[1]['Relatives'] = combine[1]['SibSp'] + combine[1]['Parch']\ncombine[1] = combine[1].drop(columns=['SibSp', 'Parch'])",
      "execution_count": null,
      "outputs": []
    },
    {
      "metadata": {
        "trusted": true,
        "_uuid": "e9c812f09a48c7955fc074b45c6624d427321709",
        "collapsed": true
      },
      "cell_type": "code",
      "source": "# I am assuming these columns do not bring much to the analysis\ncombine[0] = combine[0].drop(columns=['Name', 'Ticket','Fare'])\ncombine[1] = combine[1].drop(columns=['Name', 'Ticket','Fare'])\n\ntrain_df = combine[0]\ntest_df = combine[1]",
      "execution_count": null,
      "outputs": []
    },
    {
      "metadata": {
        "trusted": true,
        "_uuid": "b9512132c4f3de9b56c9f1723996549605f74799",
        "collapsed": true
      },
      "cell_type": "code",
      "source": "train_df.groupby(['Survived'])['Survived'].count().plot(kind='bar', stacked=True)\ntrain_df.groupby(['Age', 'Survived'])['Age'].count().unstack('Survived').plot(kind='bar', stacked=True)\ntrain_df.groupby(['Sex', 'Survived'])['Sex'].count().unstack('Survived').plot(kind='bar', stacked=True)\ntrain_df.groupby(['Pclass', 'Survived'])['Pclass'].count().unstack('Survived').plot(kind='bar', stacked=True)\ntrain_df.groupby(['Cabin', 'Survived'])['Cabin'].count().unstack('Survived').plot(kind='bar', stacked=True)\ntrain_df.groupby(['Relatives', 'Survived'])['Relatives'].count().unstack('Survived').plot(kind='bar', stacked=True)\nplt.show()",
      "execution_count": null,
      "outputs": []
    },
    {
      "metadata": {
        "trusted": true,
        "_uuid": "911ca8d34fa0a520fbe01f67e8a1ad34f2210c64",
        "collapsed": true
      },
      "cell_type": "code",
      "source": "import seaborn as sns\n# Survival distribution by Age Groups\nsns.kdeplot(train_df.loc[train_df['Age'] == 'is_children', 'Survived'], label = 'Children', shade = True)\nsns.kdeplot(train_df.loc[train_df['Age'] == 'is_young', 'Survived'], label = 'Young', shade = True)\nsns.kdeplot(train_df.loc[train_df['Age'] == 'is_adult', 'Survived'], label = 'Adults', shade = True)\n#sns.kdeplot(train_df.loc[train_df['Age'] == 'is_senior', 'Survived'], label = 'Seniors', shade = True)\nplt.xlabel('Survived'); \nplt.ylabel('Density'); \nplt.title('Survival distribution by Age Groups');",
      "execution_count": null,
      "outputs": []
    },
    {
      "metadata": {
        "trusted": true,
        "_uuid": "99935e1fa3bb363d0fe1b34f83ca0cbdcd86f002",
        "collapsed": true
      },
      "cell_type": "code",
      "source": "import seaborn as sns\n# Survival distribution by Sex\nsns.kdeplot(train_df.loc[train_df['Sex'] == 'male', 'Survived'], label = 'Female', shade = True)\nsns.kdeplot(train_df.loc[train_df['Sex'] == 'female', 'Survived'], label = 'Male', shade = True)\nplt.xlabel('Survived'); \nplt.ylabel('Density'); \nplt.title('Survival distribution by Sex');",
      "execution_count": null,
      "outputs": []
    },
    {
      "metadata": {
        "trusted": true,
        "_uuid": "95a314c905e1eae8cd503745846b9b5e55aaf2b7",
        "collapsed": true
      },
      "cell_type": "code",
      "source": "import seaborn as sns\n# Survival distribution by Deck\nsns.kdeplot(train_df.loc[train_df['Cabin'] == 'A', 'Survived'], label = 'Deck A', shade = True)\nsns.kdeplot(train_df.loc[train_df['Cabin'] == 'B', 'Survived'], label = 'Deck B', shade = True)\nsns.kdeplot(train_df.loc[train_df['Cabin'] == 'C', 'Survived'], label = 'Deck C', shade = True)\nsns.kdeplot(train_df.loc[train_df['Cabin'] == 'D', 'Survived'], label = 'Deck D', shade = True)\nsns.kdeplot(train_df.loc[train_df['Cabin'] == 'E', 'Survived'], label = 'Deck E', shade = True)\nsns.kdeplot(train_df.loc[train_df['Cabin'] == 'F', 'Survived'], label = 'Deck F', shade = True)\nsns.kdeplot(train_df.loc[train_df['Cabin'] == 'G', 'Survived'], label = 'Deck G', shade = True)\nsns.kdeplot(train_df.loc[train_df['Cabin'] == 'T', 'Survived'], label = 'Deck T', shade = True)\nsns.kdeplot(train_df.loc[train_df['Cabin'] == 'undetermined_deck', 'Survived'], label = 'Undetermined Deck', shade = True)\nplt.xlabel('Survived'); \nplt.ylabel('Density'); \nplt.title('Survival distribution by Decks');",
      "execution_count": null,
      "outputs": []
    },
    {
      "metadata": {
        "trusted": true,
        "_uuid": "a46497e1765c4918bf66510bca67ef3d63c3b406",
        "collapsed": true
      },
      "cell_type": "code",
      "source": "import seaborn as sns\n# Survival distribution by Pclass\nsns.kdeplot(train_df.loc[train_df['Pclass'] == 1, 'Survived'], label = 'First Class', shade = True)\nsns.kdeplot(train_df.loc[train_df['Pclass'] == 2, 'Survived'], label = 'Second Class', shade = True)\nsns.kdeplot(train_df.loc[train_df['Pclass'] == 3, 'Survived'], label = 'Third Class', shade = True)\nplt.xlabel('Survived'); \nplt.ylabel('Density'); \nplt.title('Survival distribution by Pclass');",
      "execution_count": null,
      "outputs": []
    },
    {
      "metadata": {
        "trusted": true,
        "_uuid": "9de3e2080e6ec4c19b2824cc3eab341007753b72",
        "collapsed": true
      },
      "cell_type": "code",
      "source": "g = sns.FacetGrid(train_df, col='Survived', size=8)\ng.map(plt.hist, 'Age', bins=5)",
      "execution_count": null,
      "outputs": []
    },
    {
      "metadata": {
        "trusted": true,
        "_uuid": "846cd347fa94e3c4790a5abd9c8e03072a50139d",
        "collapsed": true
      },
      "cell_type": "code",
      "source": "grid = sns.FacetGrid(train_df, col='Survived', row='Pclass', size=4.2, aspect=1.6)\ngrid.map(plt.hist, 'Age', alpha=.5, bins=5)\ngrid.add_legend();",
      "execution_count": null,
      "outputs": []
    },
    {
      "metadata": {
        "trusted": true,
        "_uuid": "6b2c342d50e427121c5aadb6fec6a92a579a7201",
        "collapsed": true
      },
      "cell_type": "code",
      "source": "# Select only categorical variables\ncategory_df = combine[0].select_dtypes('object').filter(items = ['Pclass','Sex','Age','Cabin','Embarked'])\ncategory_df['Survived'] = combine[0]['Survived'].astype(np.int64)\n\ndummy_df = pd.get_dummies(category_df)\n\n# Correlations in one-hot encoded dataframe\nmost_correlated = dummy_df.corr()['Survived'].abs().sort_values(ascending=False)[:8]\ncombine[0] = dummy_df.loc[:, most_correlated.index]\n\ncategory_df = combine[1].select_dtypes('object').filter(items = ['Pclass','Sex','Age','Cabin','Embarked'])\n\ndummy_df = pd.get_dummies(category_df)\n\ncombine[1] = dummy_df.loc[:, most_correlated.index]",
      "execution_count": null,
      "outputs": []
    },
    {
      "metadata": {
        "trusted": true,
        "_uuid": "4072c002952b87ff3301dfa6390fb69ff15ce8d1",
        "collapsed": true
      },
      "cell_type": "code",
      "source": "train_df = combine[0]\ntest_df = combine[1]",
      "execution_count": null,
      "outputs": []
    },
    {
      "metadata": {
        "trusted": true,
        "_uuid": "f959c21b81399cc1317dd7999ed8bac2680c55e3",
        "collapsed": true
      },
      "cell_type": "code",
      "source": "from sklearn.model_selection import train_test_split\n\nX_train, X_validation, y_train, y_validation = train_test_split(train_df.drop(\"Survived\", axis=1), train_df[\"Survived\"], test_size=0.25)\n\nX_test  = test_df.drop(\"Survived\", axis=1).copy()\nX_train.shape, y_train.shape, X_validation.shape, y_validation.shape, X_test.shape",
      "execution_count": null,
      "outputs": []
    },
    {
      "metadata": {
        "trusted": true,
        "_uuid": "4786077586d1f957ff3ba12eeda964e194caaace",
        "collapsed": true
      },
      "cell_type": "code",
      "source": "from sklearn.linear_model import LogisticRegression\n\nlogreg = LogisticRegression()\nlogreg.fit(X_train, y_train)\nY_pred = logreg.predict(X_test)\nacc_log = round(logreg.score(X_validation, y_validation) * 100, 2)\nacc_log",
      "execution_count": null,
      "outputs": []
    },
    {
      "metadata": {
        "trusted": true,
        "_uuid": "cdf103fa0cf26552ff3ecb8ecc5b4d4c4af6792c",
        "collapsed": true
      },
      "cell_type": "code",
      "source": "# Support Vector Machines\nfrom sklearn.svm import SVC, LinearSVC\n\nsvc = SVC()\nsvc.fit(X_train, y_train)\nY_pred = svc.predict(X_test)\nacc_svc = round(svc.score(X_validation, y_validation) * 100, 2)\nacc_svc",
      "execution_count": null,
      "outputs": []
    },
    {
      "metadata": {
        "trusted": true,
        "_uuid": "b2e26b89bfdaa1cea2cde2525e01b2f1f2aeed69",
        "collapsed": true
      },
      "cell_type": "code",
      "source": "knn = KNeighborsClassifier(n_neighbors = 3)\nknn.fit(X_train, y_train)\nY_pred = knn.predict(X_test)\nacc_knn = round(knn.score(X_validation, y_validation) * 100, 2)\nacc_knn",
      "execution_count": null,
      "outputs": []
    },
    {
      "metadata": {
        "trusted": true,
        "_uuid": "013aa114307802f9e675a46dfa01b16e8245272d",
        "collapsed": true
      },
      "cell_type": "code",
      "source": "survived = svc.predict(X_test)\nresult_df = pd.read_csv('../input/test.csv')\nresult_df[\"Survived\"] = survived\nresult_df = result_df[[\"PassengerId\", \"Survived\"]]\nresult_df.to_csv('results.csv', index = False)",
      "execution_count": null,
      "outputs": []
    }
  ],
  "metadata": {
    "kernelspec": {
      "display_name": "Python 3",
      "language": "python",
      "name": "python3"
    },
    "language_info": {
      "name": "python",
      "version": "3.6.6",
      "mimetype": "text/x-python",
      "codemirror_mode": {
        "name": "ipython",
        "version": 3
      },
      "pygments_lexer": "ipython3",
      "nbconvert_exporter": "python",
      "file_extension": ".py"
    }
  },
  "nbformat": 4,
  "nbformat_minor": 1
}